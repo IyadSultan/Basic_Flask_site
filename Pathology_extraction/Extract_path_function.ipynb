{
  "nbformat": 4,
  "nbformat_minor": 0,
  "metadata": {
    "colab": {
      "provenance": [],
      "mount_file_id": "1WAGNyhKA-_Ao-QYpykOJZTNQPYWLwz5t",
      "authorship_tag": "ABX9TyMuMIHVZTCoVa4cVnVZbeZ+",
      "include_colab_link": true
    },
    "kernelspec": {
      "name": "python3",
      "display_name": "Python 3"
    },
    "language_info": {
      "name": "python"
    }
  },
  "cells": [
    {
      "cell_type": "markdown",
      "metadata": {
        "id": "view-in-github",
        "colab_type": "text"
      },
      "source": [
        "<a href=\"https://colab.research.google.com/github/IyadSultan/Basic_Flask_site/blob/master/Pathology_extraction/Extract_path_function.ipynb\" target=\"_parent\"><img src=\"https://colab.research.google.com/assets/colab-badge.svg\" alt=\"Open In Colab\"/></a>"
      ]
    },
    {
      "cell_type": "code",
      "source": [
        "!pip install langchain\n",
        "!pip install openai"
      ],
      "metadata": {
        "id": "stcS9Z1-KHvB"
      },
      "execution_count": null,
      "outputs": []
    },
    {
      "cell_type": "code",
      "execution_count": 3,
      "metadata": {
        "colab": {
          "base_uri": "https://localhost:8080/"
        },
        "id": "REZ_ySNbJ-9r",
        "outputId": "6956268d-23a6-42b9-c454-205300c2e003"
      },
      "outputs": [
        {
          "output_type": "stream",
          "name": "stderr",
          "text": [
            "/usr/local/lib/python3.10/dist-packages/langchain_core/_api/deprecation.py:117: LangChainDeprecationWarning: The class `langchain_community.chat_models.openai.ChatOpenAI` was deprecated in langchain-community 0.0.10 and will be removed in 0.2.0. An updated version of the class exists in the langchain-openai package and should be used instead. To use it run `pip install -U langchain-openai` and import as `from langchain_openai import ChatOpenAI`.\n",
            "  warn_deprecated(\n"
          ]
        }
      ],
      "source": [
        "import os\n",
        "# import openai\n",
        "\n",
        "from pydantic import BaseModel, Field\n",
        "from langchain.utils.openai_functions import convert_pydantic_to_openai_function\n",
        "from typing import Optional\n",
        "from langchain.prompts import ChatPromptTemplate\n",
        "from langchain.chat_models import ChatOpenAI\n",
        "from langchain.output_parsers.openai_functions import JsonOutputFunctionsParser\n",
        "import pandas as pd\n",
        "from tqdm import tqdm\n",
        "# from dotenv import load_dotenv, find_dotenv\n",
        "from google.colab import userdata\n",
        "os.environ['OPENAI_API_KEY']=userdata.get('OPENAI_API_KEY')\n",
        "from pydantic import BaseModel, Field\n",
        "model = ChatOpenAI(temperature=0,model_name=\"gpt-4-0125-preview\")\n",
        "\n",
        "import json\n",
        "import pandas as pd\n",
        "from typing import Dict, Any, List"
      ]
    },
    {
      "cell_type": "code",
      "source": [
        "df = pd.read_csv(\"/content/pathology_reports.csv\", encoding='MacRoman')\n",
        "\n",
        "df=df[df[\"include\"]==1]\n",
        "df = df.head(4)\n",
        "df.shape\n",
        "\n"
      ],
      "metadata": {
        "colab": {
          "base_uri": "https://localhost:8080/"
        },
        "id": "NWgFhB3fMJfC",
        "outputId": "6bab9437-d6a9-4255-bb8a-4506ba3f0692"
      },
      "execution_count": 35,
      "outputs": [
        {
          "output_type": "execute_result",
          "data": {
            "text/plain": [
              "(4, 4)"
            ]
          },
          "metadata": {},
          "execution_count": 35
        }
      ]
    },
    {
      "cell_type": "code",
      "source": [
        "\n",
        "\n",
        "# First, create an empty JSON file\n",
        "with open('pathology_report_data.json', 'w') as file:\n",
        "    json.dump({}, file)\n",
        "\n",
        "# Define the Information class\n",
        "class Information(BaseModel):\n",
        "    \"\"\"Information to extract.\"\"\"\n",
        "    #Specimen Information:\n",
        "    malignancy: str = Field(description=\"Is this report for a malignancy or a malignant condition? answer using Yes or No\")\n",
        "    Primary_site: str = Field(description=\"Site of primary tumor if known (e.g. Breast, or Unknown primary)\")\n",
        "    Specimen_type: str = Field(description=\"Specimen type (e.g., biopsy, mastectomy, lumpectomy)\")\n",
        "    Specimen_site: str = Field(description=\"Specimen site (left/right breast, specific quadrant)\")\n",
        "    #Macroscopic Description:\n",
        "    specimen_size: str = Field(description=\"Size of the specimen n*n*n and/or in ml\")\n",
        "    specimen_weight: float = Field(description=\" weight of the specimen in grams (e.g. 50 for a tumor that is 50 grams)\")\n",
        "    #Microscopic Description:\n",
        "    Histologic_type: str = Field(description=\"Histologic type of breast cancer , try to use ICD-O classification (e.g., invasive ductal carcinoma, invasive lobular carcinoma)\")\n",
        "    tumor_grade : str = Field(description=\"Grade of the tumor (e.g., Nottingham grade)\")\n",
        "    tumor_size : str = Field(description=\"Tumor size\")\n",
        "    tumor_margins : str = Field(description=\"Description of the tumor margins (involved or uninvolved)\")\n",
        "    #Tumor Staging:\n",
        "    TNM_staging : str = Field(description=\"TNM staging (Tumor size, Node status, Metastasis)\")\n",
        "    #Lymph Node Status:\n",
        "    Number_of_lymph_nodes_examined  : str = Field(description=\"Number of lymph nodes examined, 0 if none\")\n",
        "    Number_of_lymph_nodes_involved  : str = Field(description=\"Number of lymph nodes involved, 0 if none\")\n",
        "    Location_of_involved_lymph_nodes  : str = Field(description=\"Location of involved lymph nodes\")\n",
        "    #Additional Findings:\n",
        "    Presence_of_lymphovascular_invasion  : str = Field(description=\"Presence of lymphovascular invasion\")\n",
        "    Presence_of_ductal_carcinoma_in_situ : str = Field(description=\"Presence of ductal carcinoma in situ (DCIS)\")\n",
        "    Necrosis: str = Field(description=\"Percentage of necrosis if present\")\n",
        "    # Treatment Recommendations (if included):\n",
        "    # Suggested_therapeutic  : str = Field(description=\"Suggested therapeutic options based on pathology findings\")\n",
        "    # immunohistochemistry\n",
        "    Immunohistochemsitry: str = Field(description=\"\"\"\n",
        "    Any immunohistochemistry stains done with their results, e.g. ER, PR, HER2, Ki67;\n",
        "    results presented as Positive, Negative, score or number with no other text;\n",
        "    Instead of saying 'Estrogen ReceptorPositive, strong, in 95% of tumor cell nuclei' just say 'Estrogen Receptor, Positive'\n",
        "    results should be seperated using |\"\"\")\n",
        "\n",
        "\n",
        "convert_pydantic_to_openai_function(Information)\n",
        "extraction_functions = [convert_pydantic_to_openai_function(Information)]\n",
        "extraction_model = model.bind(functions=extraction_functions, function_call={\"name\": \"Information\"})\n",
        "\n",
        "\n",
        "\n",
        "prompt = ChatPromptTemplate.from_messages([\n",
        "    (\"system\", \"\"\"\n",
        "    You are an expert pathologist working at King Hussein Cancer Center.\n",
        "    Extract relevant information from the provided request.\n",
        "    Extract ONLY the information presented in the initial request; don't add anything else.\n",
        "    Return partial information if something is missing.\n",
        "    If you have a tumor and lymph nodes in the sample, extract information about the tumor(e.g. tumor size, site, pathology) .\n",
        "    \"\"\"),\n",
        "    (\"human\", \"{input}\")\n",
        "])\n",
        "\n",
        "\n",
        "extraction_chain = prompt | extraction_model | JsonOutputFunctionsParser()\n",
        "\n",
        "\n",
        "def append_to_json(file_path, data):\n",
        "    with open(file_path, 'r+') as file:\n",
        "        file_data = json.load(file)\n",
        "        if not isinstance(file_data, list):\n",
        "            file_data = []\n",
        "        file_data.append(data)\n",
        "        file.seek(0)\n",
        "        json.dump(file_data, file, indent=4)\n",
        "\n",
        "def process_dataframe_and_update_json(df: pd.DataFrame, json_file_path: str) -> None:\n",
        "    for _, row in df.iterrows():\n",
        "        result=extraction_chain.invoke({\"input\":row['pathalogy_note']})\n",
        "        pathology_data = {\n",
        "            \"krn\": row['krn'],\n",
        "            \"kate\": row['kate'],\n",
        "            \"pathology_note\": row['pathalogy_note'],\n",
        "            \"extracted_data\": result\n",
        "        }\n",
        "        append_to_json(json_file_path, pathology_data)\n",
        "\n",
        "\n",
        "\n",
        "# Note: This function stub assumes you have a mechanism to extract the required fields from the pathology_report column.\n",
        "# You would need to integrate the actual extraction logic based on your model or extraction method.\n"
      ],
      "metadata": {
        "id": "i47-U8A8J_-s"
      },
      "execution_count": 41,
      "outputs": []
    },
    {
      "cell_type": "code",
      "source": [
        "# Assuming df is your dataframe with columns: krn, kate, and pathology_report\n",
        "process_dataframe_and_update_json(df, 'pathology_report_data.json')"
      ],
      "metadata": {
        "id": "p-Lzw_UKKACJ"
      },
      "execution_count": 42,
      "outputs": []
    },
    {
      "cell_type": "code",
      "source": [
        "# prompt: import pathology_report_date.json and print it\n",
        "\n",
        "\n",
        "with open('pathology_report_data.json', 'r') as file:\n",
        "    result = json.load(file)\n",
        "\n",
        "for report in result:\n",
        "    print(f\"krn: {report['krn']}, kate: {report['kate']}\")\n",
        "    for attribute, value in report['extracted_data'].items():\n",
        "        print(f\"{attribute}: {value}\")\n",
        "    print(\"-\" * 50)  # Separator for each report\n",
        "\n"
      ],
      "metadata": {
        "colab": {
          "base_uri": "https://localhost:8080/"
        },
        "id": "doD_wtAvKAFe",
        "outputId": "12c2990b-00ea-4a5d-8326-45f231ad53fa"
      },
      "execution_count": 43,
      "outputs": [
        {
          "output_type": "stream",
          "name": "stdout",
          "text": [
            "krn: 124120, kate: 7/12/2017\n",
            "malignancy: No\n",
            "Primary_site: Thyroid\n",
            "Specimen_type: FNA\n",
            "Specimen_site: Right thyroid lobe, Left thyroid lobe, Isthmus\n",
            "specimen_size: Not provided\n",
            "specimen_weight: 0\n",
            "Histologic_type: Atypical cells of undetermined significance\n",
            "tumor_grade: Not applicable\n",
            "tumor_size: Not applicable\n",
            "tumor_margins: Not applicable\n",
            "TNM_staging: Not applicable\n",
            "Number_of_lymph_nodes_examined: 0\n",
            "Number_of_lymph_nodes_involved: 0\n",
            "Location_of_involved_lymph_nodes: Not applicable\n",
            "Presence_of_lymphovascular_invasion: Not applicable\n",
            "Presence_of_ductal_carcinoma_in_situ: Not applicable\n",
            "Necrosis: Not applicable\n",
            "Immunohistochemsitry: Not provided\n",
            "--------------------------------------------------\n",
            "krn: 176865, kate: 10/9/2019\n",
            "malignancy: Yes\n",
            "Primary_site: Right breast\n",
            "Specimen_type: Tru cut biopsy\n",
            "Specimen_site: Right breast\n",
            "specimen_size: Unknown\n",
            "specimen_weight: 0\n",
            "Histologic_type: Invasive carcinoma with lobular features\n",
            "tumor_grade: 1\n",
            "tumor_size: Tiny fragments\n",
            "tumor_margins: Unknown\n",
            "TNM_staging: Unknown\n",
            "Number_of_lymph_nodes_examined: 0\n",
            "Number_of_lymph_nodes_involved: 0\n",
            "Location_of_involved_lymph_nodes: Unknown\n",
            "Presence_of_lymphovascular_invasion: Unknown\n",
            "Presence_of_ductal_carcinoma_in_situ: Unknown\n",
            "Necrosis: Unknown\n",
            "Immunohistochemsitry: Estrogen Receptor, Positive|Progesterone Receptor, Positive|HER2, Positive\n",
            "--------------------------------------------------\n",
            "krn: 176865, kate: 11/3/2019\n",
            "malignancy: Yes\n",
            "Primary_site: Breast\n",
            "Specimen_type: TRU CUT BIOPSY\n",
            "Specimen_site: Right axilla\n",
            "specimen_size: 2.0cm\n",
            "specimen_weight: 0\n",
            "Histologic_type: Metastatic carcinoma\n",
            "tumor_grade: \n",
            "tumor_size: \n",
            "tumor_margins: \n",
            "TNM_staging: \n",
            "Number_of_lymph_nodes_examined: 0\n",
            "Number_of_lymph_nodes_involved: 0\n",
            "Location_of_involved_lymph_nodes: \n",
            "Presence_of_lymphovascular_invasion: \n",
            "Presence_of_ductal_carcinoma_in_situ: \n",
            "Necrosis: \n",
            "Immunohistochemsitry: GATA3, Positive|PAX8, Negative\n",
            "--------------------------------------------------\n",
            "krn: 212667, kate: 2/21/2022\n",
            "malignancy: Yes\n",
            "Primary_site: Breast\n",
            "Specimen_type: TRU-CUT BIOPSY\n",
            "Specimen_site: Right breast\n",
            "specimen_size: Unknown\n",
            "specimen_weight: 0\n",
            "Histologic_type: Invasive ductal carcinoma\n",
            "tumor_grade: grade 3\n",
            "tumor_size: Unknown\n",
            "tumor_margins: Unknown\n",
            "TNM_staging: Unknown\n",
            "Number_of_lymph_nodes_examined: 0\n",
            "Number_of_lymph_nodes_involved: 0\n",
            "Location_of_involved_lymph_nodes: Unknown\n",
            "Presence_of_lymphovascular_invasion: Unknown\n",
            "Presence_of_ductal_carcinoma_in_situ: Unknown\n",
            "Necrosis: Unknown\n",
            "Immunohistochemsitry: Estrogen Receptor, Positive|Progesterone Receptor, Positive|HER2, Negative\n",
            "--------------------------------------------------\n"
          ]
        }
      ]
    }
  ]
}